{
 "cells": [
  {
   "cell_type": "code",
   "execution_count": 4,
   "metadata": {},
   "outputs": [],
   "source": [
    "from tqdm import tqdm\n",
    "import numpy as np\n",
    "import matplotlib.pyplot as plt\n",
    "import matplotlib.colors as cl\n",
    "import scipy.constants as sc\n",
    "import scipy.interpolate as si\n",
    "import scipy.stats as ss\n",
    "import os\n"
   ]
  },
  {
   "cell_type": "code",
   "execution_count": 29,
   "metadata": {},
   "outputs": [],
   "source": [
    "def read_A_B(directory):\n",
    "    \n",
    "    extV=[]\n",
    "    einV=[]\n",
    "    A=[]\n",
    "    B=[]\n",
    "    \n",
    "    for root, dirs, files in os.walk(directory):\n",
    "        for d in dirs:            \n",
    "            dist.append(d.split('N')[0])\n",
    "        for f in files:\n",
    "            \n",
    "            if 'vs' in f:\n",
    "                f_split=f.split('V')\n",
    "                extV.append(int(f_split[0]))\n",
    "            \n",
    "                if 'A' in f:\n",
    "                    A_tmp=np.genfromtxt(root+'/'+f)\n",
    "                    \n",
    "                    A.append(A_tmp[1:,7])\n",
    "                if 'B' in f:\n",
    "                    B_tmp=np.genfromtxt(root+'/'+f)\n",
    "                    B.append(B_tmp[1:,7])\n",
    "                \n",
    "    return extV,A,B\n",
    "\n",
    "\n"
   ]
  },
  {
   "cell_type": "code",
   "execution_count": 30,
   "metadata": {},
   "outputs": [],
   "source": [
    "extV,A,B=read_A_B('A_B')"
   ]
  },
  {
   "cell_type": "code",
   "execution_count": 32,
   "metadata": {},
   "outputs": [
    {
     "data": {
      "text/plain": [
       "<matplotlib.image.AxesImage at 0x1a17e14128>"
      ]
     },
     "execution_count": 32,
     "metadata": {},
     "output_type": "execute_result"
    },
    {
     "data": {
      "image/png": "[encoded data removed]",
      "text/plain": [
       "<Figure size 432x288 with 1 Axes>"
      ]
     },
     "metadata": {
      "needs_background": "light"
     },
     "output_type": "display_data"
    }
   ],
   "source": [
    "plt.imshow(A)"
   ]
  },
  {
   "cell_type": "code",
   "execution_count": null,
   "metadata": {},
   "outputs": [],
   "source": []
  }
 ],
 "metadata": {
  "kernelspec": {
   "display_name": "Python 3",
   "language": "python",
   "name": "python3"
  },
  "language_info": {
   "codemirror_mode": {
    "name": "ipython",
    "version": 3
   },
   "file_extension": ".py",
   "mimetype": "text/x-python",
   "name": "python",
   "nbconvert_exporter": "python",
   "pygments_lexer": "ipython3",
   "version": "3.6.7"
  }
 },
 "nbformat": 4,
 "nbformat_minor": 2
}
