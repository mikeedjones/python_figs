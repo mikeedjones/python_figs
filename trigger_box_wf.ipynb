{
 "cells": [
  {
   "cell_type": "code",
   "execution_count": 134,
   "metadata": {},
   "outputs": [],
   "source": [
    "import numpy as np\n",
    "import matplotlib.pyplot as plt\n",
    "import scipy.stats as st\n",
    "import scipy.interpolate as si\n",
    "import scipy.constants as sc\n",
    "import scipy.optimize as so\n",
    "import matplotlib as mpl\n",
    "from matplotlib import cm\n",
    "import matplotlib.lines as mlines\n",
    "\n",
    "key=\"full_width_10\"\n",
    "\n",
    "if key == \"full_width_g\":\n",
    "    w=4.7\n",
    "    h=w/1.618\n",
    "\n",
    "if key == \"insert\":\n",
    "    w=4.7/2*(30/41)\n",
    "#    h=w/1.618\n",
    "    h=2*30/41\n",
    "\n",
    "if key == \"half_width_g\":\n",
    "    w=4.7/2\n",
    "#    h=w/1.618\n",
    "    h=2\n",
    "if key == \"full_width_10\":\n",
    "    w=4.7\n",
    "    h=6\n",
    "\n",
    "mpl.rcParams['figure.figsize'] = [w, h]\n",
    "mpl.rcParams['mathtext.fontset'] = 'cm'\n",
    "mpl.rcParams['mathtext.rm'] = 'serif'\n",
    "\n",
    "def squarepulse(xin, mu_lst, l, rise):\n",
    "    y=np.zeros(len(xin))\n",
    "    for mu in mu_lst:\n",
    "        for x,i in zip(xin,np.arange(len(xin))):\n",
    "            if x<mu: \n",
    "                y[i]+=0\n",
    "            if (x>mu) and x<(mu+l): \n",
    "                y[i]+=1\n",
    "            if x>mu+l: \n",
    "                y[i]+=0\n",
    "    return np.clip(np.array(y),0,1);    \n",
    "\n"
   ]
  },
  {
   "cell_type": "code",
   "execution_count": 139,
   "metadata": {},
   "outputs": [
    {
     "name": "stderr",
     "output_type": "stream",
     "text": [
      "/Users/Michael/anaconda/lib/python3.6/site-packages/ipykernel_launcher.py:5: DeprecationWarning: object of type <class 'float'> cannot be safely interpreted as an integer.\n",
      "  \"\"\"\n"
     ]
    },
    {
     "data": {
      "image/png": "[encoded data removed]",
      "text/plain": [
       "<Figure size 338.4x432 with 5 Axes>"
      ]
     },
     "metadata": {
      "needs_background": "light"
     },
     "output_type": "display_data"
    }
   ],
   "source": [
    "t_max=.5\n",
    "t_min=0\n",
    "dt=1E-4\n",
    "\n",
    "t=np.linspace(0,t_max,t_max/dt)\n",
    "\n",
    "fig,ax=plt.subplots(5,1,sharex=True)\n",
    "\n",
    "las_freq=10\n",
    "cam_freq=10\n",
    "clk_len=.01\n",
    "\n",
    "N=10\n",
    "\n",
    "LasClk=squarepulse(t,np.arange(0,t_max,1/las_freq),clk_len,0)\n",
    "CamClk=squarepulse(t,np.arange(0,t_max,1/las_freq)-7.7E-3,clk_len,0)\n",
    "gate=squarepulse(t,[N/las_freq+clk_len+.005-.8],1/las_freq,0)\n",
    "# LasClk=squarepulse(t,np.arange(0,t_max,t_max/1),.05,0)\n",
    "\n",
    "allhand=[]\n",
    "alllab=[]\n",
    "\n",
    "ax[0].plot(t,LasClk,c='C0',label='Flashlamp trigger')\n",
    "allhand.append(mlines.Line2D([], [], c='C0',label='Flashlamp trigger'))\n",
    "for x,i in zip(np.arange(0,t_max,1/las_freq),np.arange(len(np.arange(0,t_max,1/las_freq)))):\n",
    "    \n",
    "    Nstr='N {0:+0d}'.format(i-2)\n",
    "    \n",
    "    if i-2 == 0: \n",
    "        Nstr='N'\n",
    "        x=x+clk_len/2\n",
    "        \n",
    "    ax[0].text(x-clk_len,1.1,Nstr,color='C0')\n",
    "\n",
    "ax[1].plot(t,CamClk,c='C1',label='Offset trigger')\n",
    "allhand.append(mlines.Line2D([], [], c='C1',label='Flashlamp trigger'))\n",
    "\n",
    "ax[2].plot(t,gate,c='C2',label='Gate')\n",
    "allhand.append(mlines.Line2D([], [], c='C2',label='Gate'))\n",
    "\n",
    "ax[3].plot(t,np.logical_and(gate,CamClk),c='C3',label='Camera trigger')\n",
    "allhand.append(mlines.Line2D([], [], c='C3',label='Camera trigger'))\n",
    "\n",
    "ax[4].plot(t,np.logical_and(gate,LasClk),c='C4',label='Q-switch trigger')\n",
    "allhand.append(mlines.Line2D([], [], c='C4',label='Q-switch trigger'))\n",
    "ax[4].set_xlabel('Time (s)')\n",
    "\n",
    "for ax in ax:\n",
    "    ax.spines['right'].set_visible(False)\n",
    "    ax.spines['top'].set_visible(False)\n",
    "    # Only show ticks on the left and bottom spines\n",
    "    ax.yaxis.set_ticks_position('left')\n",
    "#     ax.set(ylabel='Voltage (V)')\n",
    "    handles, labels = ax.get_legend_handles_labels()\n",
    "    alllab.append(labels)\n",
    "\n",
    "alllab = [item for sublist in alllab for item in sublist]\n",
    "\n",
    "lgd=fig.legend(allhand,alllab,ncol=3,bbox_to_anchor=(0.05, 0.98, .95, .102),mode=\"expand\", loc=1)\n",
    "\n",
    "plt.tight_layout()\n",
    "plt.savefig('trigger_box_wf.pdf',bbox_inches='tight',bbox_extra_artists=(lgd,))\n",
    "plt.show()"
   ]
  },
  {
   "cell_type": "code",
   "execution_count": 29,
   "metadata": {},
   "outputs": [
    {
     "data": {
      "text/plain": [
       "array([0. , 0.1, 0.2, 0.3, 0.4, 0.5, 0.6, 0.7, 0.8, 0.9, 1. , 1.1, 1.2,\n",
       "       1.3, 1.4, 1.5, 1.6, 1.7, 1.8, 1.9, 2. , 2.1, 2.2, 2.3, 2.4, 2.5,\n",
       "       2.6, 2.7, 2.8, 2.9])"
      ]
     },
     "execution_count": 29,
     "metadata": {},
     "output_type": "execute_result"
    }
   ],
   "source": [
    "np.arange(0,t_max,.1)"
   ]
  },
  {
   "cell_type": "code",
   "execution_count": null,
   "metadata": {},
   "outputs": [],
   "source": []
  },
  {
   "cell_type": "code",
   "execution_count": null,
   "metadata": {},
   "outputs": [],
   "source": []
  }
 ],
 "metadata": {
  "kernelspec": {
   "display_name": "Python 3",
   "language": "python",
   "name": "python3"
  },
  "language_info": {
   "codemirror_mode": {
    "name": "ipython",
    "version": 3
   },
   "file_extension": ".py",
   "mimetype": "text/x-python",
   "name": "python",
   "nbconvert_exporter": "python",
   "pygments_lexer": "ipython3",
   "version": "3.6.7"
  }
 },
 "nbformat": 4,
 "nbformat_minor": 2
}
