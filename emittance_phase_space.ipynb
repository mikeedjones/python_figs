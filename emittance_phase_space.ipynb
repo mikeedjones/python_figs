{
 "cells": [
  {
   "cell_type": "code",
   "execution_count": 292,
   "metadata": {},
   "outputs": [],
   "source": [
    "import numpy as np\n",
    "import matplotlib.pyplot as plt\n",
    "import scipy.stats as st\n",
    "import scipy.interpolate as si\n",
    "import scipy.constants as sc\n",
    "import scipy.optimize as so\n",
    "\n",
    "N=200000\n",
    "\n",
    "x=st.norm.rvs(loc=0, scale=.05, size=N)\n",
    "px=st.norm.rvs(loc=0, scale=0.3, size=N)\n",
    "\n",
    "x_low_d=st.norm.rvs(loc=0, scale=.05, size=int(N/400))\n",
    "px_low_d=st.norm.rvs(loc=0, scale=0.3, size=int(N/400))\n",
    "\n"
   ]
  },
  {
   "cell_type": "code",
   "execution_count": 318,
   "metadata": {},
   "outputs": [],
   "source": [
    "import matplotlib as mpl\n",
    "\n",
    "key=\"half_width_g\"\n",
    "\n",
    "if key == \"full_width_g\":\n",
    "    w=4.7\n",
    "    h=w/1.618\n",
    "\n",
    "if key == \"insert\":\n",
    "    w=4.7/2*(30/41)\n",
    "#    h=w/1.618\n",
    "    h=2*30/41\n",
    "\n",
    "if key == \"half_width_g\":\n",
    "    w=4.7/2\n",
    "#    h=w/1.618\n",
    "    h=2\n",
    "if key == \"full_width_10\":\n",
    "    w=4.7\n",
    "    h=10\n",
    "\n",
    "mpl.rcParams['mathtext.fontset'] = 'cm'\n",
    "mpl.rcParams['mathtext.rm'] = 'serif'\n"
   ]
  },
  {
   "cell_type": "code",
   "execution_count": 326,
   "metadata": {},
   "outputs": [
    {
     "data": {
      "image/png": "[encoded data removed]",
      "text/plain": [
       "<Figure size 169.2x144 with 1 Axes>"
      ]
     },
     "metadata": {
      "needs_background": "light"
     },
     "output_type": "display_data"
    }
   ],
   "source": [
    "fig=plt.figure()\n",
    "ax = fig.add_subplot(1, 1, 1)\n",
    "\n",
    "# Move left y-axis and bottim x-axis to centre, passing through (0,0)\n",
    "ax.spines['left'].set_position('center')\n",
    "ax.spines['bottom'].set_position('center')\n",
    "\n",
    "# Eliminate upper and right axes\n",
    "ax.spines['right'].set_color('none')\n",
    "ax.spines['top'].set_color('none')\n",
    "\n",
    "# Show ticks in the left and lower axes only\n",
    "ax.xaxis.set_ticks([1])\n",
    "ax.xaxis.set_ticklabels(['$p_x$'])\n",
    "\n",
    "ax.yaxis.set_ticks([1])\n",
    "ax.yaxis.set_ticklabels(['$x$'])\n",
    "\n",
    "plt.scatter(x_low_d,px_low_d,s=0.1,alpha=1)\n",
    "plt.xlim([-1,1])\n",
    "plt.ylim([-1,1])\n",
    "\n",
    "density,xbin,ybin=np.histogram2d(x,px,bins=20)\n",
    "\n",
    "dx=(xbin[1]-xbin[0])\n",
    "dy=(ybin[1]-ybin[0])\n",
    "\n",
    "xbin=xbin[:-1]\n",
    "ybin=ybin[:-1]+dy/2\n",
    "\n",
    "Xbin,Ybin=np.meshgrid(xbin,ybin)\n",
    "plt.contour(Xbin,Ybin,density,465/2)\n",
    "plt.savefig('emittance_phase_space.pdf')"
   ]
  },
  {
   "cell_type": "code",
   "execution_count": 327,
   "metadata": {},
   "outputs": [],
   "source": [
    "x_ld_non_lin=x_low_d+0.4*np.sin(2.5*px_low_d)\n",
    "x_non_lin=x+0.4*np.sin(2.5*px)\n",
    "\n",
    "density_s,xbin_s,ybin_s=np.histogram2d(x_non_lin,px,bins=60)\n",
    "\n",
    "dx_s=(xbin_s[1]-xbin_s[0])\n",
    "dy_s=(ybin_s[1]-ybin_s[0])\n",
    "\n",
    "xbin_s=xbin_s[:-1]\n",
    "ybin_s=ybin_s[:-1]"
   ]
  },
  {
   "cell_type": "code",
   "execution_count": 328,
   "metadata": {},
   "outputs": [
    {
     "data": {
      "image/png": "[encoded data removed]",
      "text/plain": [
       "<Figure size 169.2x144 with 1 Axes>"
      ]
     },
     "metadata": {
      "needs_background": "light"
     },
     "output_type": "display_data"
    }
   ],
   "source": [
    "from matplotlib import patches\n",
    "\n",
    "fig=plt.figure()\n",
    "ax = fig.add_subplot(1, 1, 1)\n",
    "\n",
    "ax.spines['left'].set_position('center')\n",
    "ax.spines['bottom'].set_position('center')\n",
    "\n",
    "# Eliminate upper and right axes\n",
    "ax.spines['right'].set_color('none')\n",
    "ax.spines['top'].set_color('none')\n",
    "\n",
    "# Show ticks in the left and lower axes only\n",
    "ax.xaxis.set_ticks([1])\n",
    "ax.xaxis.set_ticklabels(['$p_x$'])\n",
    "\n",
    "ax.yaxis.set_ticks([1])\n",
    "ax.yaxis.set_ticklabels(['$x$'])\n",
    "\n",
    "# plt.scatter(x_ld_non_lin,px_low_d,s=0.9,alpha=1)\n",
    "plt.scatter(x_ld_non_lin,px_low_d,s=0.1,alpha=1)\n",
    "plt.xlim([-1,1])\n",
    "plt.ylim([-1,1])\n",
    "\n",
    "Xbin_s,Ybin_s=np.meshgrid(xbin_s,ybin_s)\n",
    "plt.contour(Xbin_s,Ybin_s,density_s.T,150.1)\n",
    "# plt.imshow(density_s)\n",
    "\n",
    "\n",
    "e2 = patches.Ellipse((0, 0),.3, 2,\n",
    "                     angle=-36, linewidth=2, fill=False, color='C1')\n",
    "\n",
    "\n",
    "ax.add_patch(e2)\n",
    "\n",
    "\n",
    "plt.savefig('emittance_phase_space_s.pdf')"
   ]
  },
  {
   "cell_type": "code",
   "execution_count": null,
   "metadata": {},
   "outputs": [],
   "source": []
  },
  {
   "cell_type": "code",
   "execution_count": null,
   "metadata": {},
   "outputs": [],
   "source": []
  }
 ],
 "metadata": {
  "kernelspec": {
   "display_name": "Python 3",
   "language": "python",
   "name": "python3"
  },
  "language_info": {
   "codemirror_mode": {
    "name": "ipython",
    "version": 3
   },
   "file_extension": ".py",
   "mimetype": "text/x-python",
   "name": "python",
   "nbconvert_exporter": "python",
   "pygments_lexer": "ipython3",
   "version": "3.6.7"
  }
 },
 "nbformat": 4,
 "nbformat_minor": 2
}
